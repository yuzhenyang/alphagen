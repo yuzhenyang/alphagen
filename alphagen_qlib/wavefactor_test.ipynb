{
 "cells": [
  {
   "cell_type": "code",
   "execution_count": 28,
   "metadata": {},
   "outputs": [
    {
     "name": "stdout",
     "output_type": "stream",
     "text": [
      "The autoreload extension is already loaded. To reload it, use:\n",
      "  %reload_ext autoreload\n"
     ]
    }
   ],
   "source": [
    "%load_ext autoreload\n",
    "%reload_ext autoreload\n",
    "\n",
    "%autoreload 2\n",
    "\n",
    "from wavefactor import *"
   ]
  },
  {
   "cell_type": "code",
   "execution_count": 29,
   "metadata": {},
   "outputs": [],
   "source": [
    "exprs = [\n",
    "    \"Scale(Bound(Neg(TsMean(wdb/ashareyield/PCT_CHANGE_W,50))))\",\n",
    "    \"Neg(Div(Broadcast(30.0),Div(Mult(md/std/Vwp,Broadcast(30.0)),md/std/Cls)))\"\n",
    "    ]"
   ]
  },
  {
   "cell_type": "code",
   "execution_count": 50,
   "metadata": {},
   "outputs": [
    {
     "name": "stderr",
     "output_type": "stream",
     "text": [
      "[2024-04-12 14:33:50] SC method: Scale(Bound(\n",
      "[2024-04-12 14:33:50] [{'name': 'expr.0.6af3d070', 'expr': 'Scale(Bound(Neg(TsMean(wdb/ashareyield/PCT_CHANGE_W,50))))'}, {'name': 'expr.1.3695d67b', 'expr': 'Neg(Div(Broadcast(30.0),Div(Mult(md/std/Vwp,Broadcast(30.0)),md/std/Cls)))'}]\n",
      "[2024-04-12 14:33:50] Read 2 exprssions\n",
      "[2024-04-12 14:33:50] Factor expressions formatted 2\n"
     ]
    }
   ],
   "source": [
    "drange=\"20190101-20201220\"\n",
    "wf3 = WaveFactor(date_range=drange, univ=\"alev\", score_expr=\"ic.ir\", threshold=0.1)\n",
    "af = wf3.factor(exprs)\n",
    "wf3.save(af, \"/home/zyyu/tmp/EOD2/\")"
   ]
  },
  {
   "cell_type": "code",
   "execution_count": 39,
   "metadata": {},
   "outputs": [
    {
     "data": {
      "text/plain": [
       "((3731, 1, 478), 670)"
      ]
     },
     "execution_count": 39,
     "metadata": {},
     "output_type": "execute_result"
    }
   ],
   "source": [
    "af['expr.0.6af3d070'].shape, 478+192"
   ]
  },
  {
   "cell_type": "code",
   "execution_count": 23,
   "metadata": {},
   "outputs": [
    {
     "data": {
      "text/plain": [
       "(682, 1, 2615)"
      ]
     },
     "execution_count": 23,
     "metadata": {},
     "output_type": "execute_result"
    }
   ],
   "source": [
    "a['expr.0.6af3d070'].shape\n"
   ]
  }
 ],
 "metadata": {
  "kernelspec": {
   "display_name": "Python 3",
   "language": "python",
   "name": "python3"
  },
  "language_info": {
   "codemirror_mode": {
    "name": "ipython",
    "version": 3
   },
   "file_extension": ".py",
   "mimetype": "text/x-python",
   "name": "python",
   "nbconvert_exporter": "python",
   "pygments_lexer": "ipython3",
   "version": "3.8.10"
  }
 },
 "nbformat": 4,
 "nbformat_minor": 2
}
